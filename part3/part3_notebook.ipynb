{
 "cells": [
  {
   "attachments": {},
   "cell_type": "markdown",
   "metadata": {},
   "source": [
    "## Part 3 Notes\n",
    "\n",
    "#### 3.1 lo0ps with conditions\n",
    "\n",
    "```python\n",
    "while True:\n",
    "#can break out of loop using break\n",
    "# Print numbers until the variable a equals 5\n",
    "a = 1\n",
    "while True:\n",
    "    print(a)\n",
    "    a += 1\n",
    "    if a == 5:\n",
    "        break\n"
   ]
  },
  {
   "attachments": {},
   "cell_type": "markdown",
   "metadata": {},
   "source": [
    "general structure of while loop: \n",
    "\n",
    "\n",
    "```python\n",
    "while <condition>:\n",
    "    <block>\n",
    "```"
   ]
  },
  {
   "cell_type": "code",
   "execution_count": 2,
   "metadata": {},
   "outputs": [
    {
     "name": "stdout",
     "output_type": "stream",
     "text": [
      "Are you ready?\n",
      "5\n",
      "4\n",
      "3\n",
      "2\n",
      "1\n",
      "Now!\n"
     ]
    }
   ],
   "source": [
    "# Fix the program\n",
    "print(\"Are you ready?\")\n",
    "number = int(input(\"Please type in a number: \"))\n",
    "while (number != 0):\n",
    "    print(number)\n",
    "    number -=1\n",
    "print(\"Now!\")"
   ]
  },
  {
   "attachments": {},
   "cell_type": "markdown",
   "metadata": {},
   "source": [
    "Any Boolean expression or combination thereof is a valid condition in a loop.\n",
    "\n",
    "example:\n",
    "\n",
    "```python\n",
    "while number < 100 and number % 5 != 0:\n",
    "```"
   ]
  },
  {
   "cell_type": "code",
   "execution_count": 3,
   "metadata": {},
   "outputs": [
    {
     "name": "stdout",
     "output_type": "stream",
     "text": [
      "1\n",
      "2\n",
      "3\n",
      "4\n"
     ]
    }
   ],
   "source": [
    "x = int(input(\"Upper limit:\"))\n",
    "y = 1\n",
    "while(y<x):\n",
    "    print(y)\n",
    "    y+=1\n"
   ]
  },
  {
   "cell_type": "code",
   "execution_count": null,
   "metadata": {},
   "outputs": [],
   "source": []
  }
 ],
 "metadata": {
  "kernelspec": {
   "display_name": "Python 3",
   "language": "python",
   "name": "python3"
  },
  "language_info": {
   "codemirror_mode": {
    "name": "ipython",
    "version": 3
   },
   "file_extension": ".py",
   "mimetype": "text/x-python",
   "name": "python",
   "nbconvert_exporter": "python",
   "pygments_lexer": "ipython3",
   "version": "3.11.4"
  },
  "orig_nbformat": 4
 },
 "nbformat": 4,
 "nbformat_minor": 2
}
