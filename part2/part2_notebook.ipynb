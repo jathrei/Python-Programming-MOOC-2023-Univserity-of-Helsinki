{
 "cells": [
  {
   "attachments": {},
   "cell_type": "markdown",
   "metadata": {},
   "source": [
    "#### 2.2 More Conditionals\n",
    "\n",
    "if - else construciton\n",
    "\n",
    "```python\n",
    "if num % 2 == 0:\n",
    "    print(\"The number is even\")\n",
    "else:\n",
    "    print(\"The number is odd\")\n",
    "```\n",
    "\n",
    "\n",
    "\n",
    "Please write a program which asks the user for their age. The program should then print out a message based on whether the user is of age or not, using 18 as the age of maturity.\n"
   ]
  },
  {
   "cell_type": "code",
   "execution_count": 1,
   "metadata": {},
   "outputs": [
    {
     "name": "stdout",
     "output_type": "stream",
     "text": [
      "You are not of age!\n"
     ]
    }
   ],
   "source": [
    "#Please write a program which asks the user for their age. The program should then print out a message based on whether the user is of age or not, using 18 as the age of maturity.\n",
    "\n",
    "# Write your solution here\n",
    "age = int(input(\"How old are you? \"))\n",
    "if age<18:\n",
    "    print(\"You are not of age!\")\n",
    "else:\n",
    "    print(\"You are of age!\")\n"
   ]
  },
  {
   "attachments": {},
   "cell_type": "markdown",
   "metadata": {},
   "source": [
    "Alphabetical comparison: strings\n",
    "\n",
    "z > a, zorro > batman"
   ]
  },
  {
   "attachments": {},
   "cell_type": "markdown",
   "metadata": {},
   "source": [
    "#### 2.3 Combining Conditionals\n",
    "\n",
    "and / or operators\n",
    "\n",
    "\n",
    "and: only ++ true\n",
    "\n",
    "or: ++, +-, -+ are true"
   ]
  },
  {
   "attachments": {},
   "cell_type": "markdown",
   "metadata": {},
   "source": [
    "not (!) operator\n",
    "\n",
    "Python allows for combiniton of conditionals: a <= x <= b"
   ]
  },
  {
   "cell_type": "code",
   "execution_count": 5,
   "metadata": {},
   "outputs": [
    {
     "name": "stdout",
     "output_type": "stream",
     "text": [
      "That must be a mistake\n"
     ]
    }
   ],
   "source": [
    "#age check\n",
    "#Please write a program which asks for the user's age. If the age is not plausible, that is, it is under 5 or something that can't be an actual human age, \n",
    "#the program should print out a comment.\n",
    "\n",
    "age = int(input(\"What is yout age?\"))\n",
    "if(age<5):\n",
    "    if(age<=-1):\n",
    "        print(\"That must be a mistake\")\n",
    "    else:\n",
    "        print(\"I sustpect you can't write quite yet...\")\n",
    "else:\n",
    "    print(f\"Ok, you're {age} years old\")"
   ]
  },
  {
   "cell_type": "code",
   "execution_count": 10,
   "metadata": {},
   "outputs": [
    {
     "name": "stdout",
     "output_type": "stream",
     "text": [
      "You're not a nephew of any character I know of.\n"
     ]
    }
   ],
   "source": [
    "#Please write a program which asks for the user's name. If the name is Huey, Dewey or Louie, the program should recognise the user as one of Donald Duck's nephews.\n",
    "\n",
    "#In a similar fashion, if the name is Morty or Ferdie, the program should recognise the user as one of Mickey Mouse's nephews.\n",
    "\n",
    "name = input(\"Please type in your name:\")\n",
    "if ((name == \"Morty\") or (name == \"Ferdie\")):\n",
    "    print(\"I think you might be one of Mickey Mouse's nephews.\")\n",
    "elif ((name == \"Huey\") or (name ==\"Dewey\") or (name == \"Louie\")):\n",
    "    print(\"I think you might be one of Donald DUck's nephews.\")\n",
    "else:\n",
    "    print(\"You're not a nephew of any character I know of.\")"
   ]
  },
  {
   "cell_type": "code",
   "execution_count": 14,
   "metadata": {},
   "outputs": [
    {
     "name": "stdout",
     "output_type": "stream",
     "text": [
      "Grade: 2\n"
     ]
    }
   ],
   "source": [
    "num = int(input(\"How many points [0-100]:\"))\n",
    "grade = \"string\"\n",
    "if((num < 0) or (num > 100)):\n",
    "    grade = \"impossible!\"\n",
    "elif(num>=70):\n",
    "    if(num>=80):\n",
    "        if(num>=90):\n",
    "            grade=\"5\" \n",
    "        else:\n",
    "            grade = \"4\" \n",
    "    else:\n",
    "        grade = \"3\" \n",
    "else:\n",
    "    if(num < 60):\n",
    "        if(num < 50):\n",
    "            grade = \"fail\" \n",
    "        else:\n",
    "            grade = \"1\" \n",
    "    else:\n",
    "        grade = \"2\" \n",
    "print(f\"Grade: {grade}\")"
   ]
  },
  {
   "cell_type": "code",
   "execution_count": 22,
   "metadata": {},
   "outputs": [
    {
     "name": "stdout",
     "output_type": "stream",
     "text": [
      "False\n",
      "Fizz\n"
     ]
    }
   ],
   "source": [
    "num = int(input(\"Number:\"))\n",
    "fiveq = not(bool(num%5))\n",
    "\n",
    "if(num%3==0):\n",
    "    if(fiveq):\n",
    "        print(\"FizzBuzz\")\n",
    "    else:\n",
    "        print(\"Fizz\")\n",
    "else:\n",
    "    if(fiveq): \n",
    "        print(\"Buzz\")\n"
   ]
  },
  {
   "cell_type": "code",
   "execution_count": 24,
   "metadata": {},
   "outputs": [
    {
     "name": "stdout",
     "output_type": "stream",
     "text": [
      "That year is not a leap yeat.\n"
     ]
    }
   ],
   "source": [
    "#another nested conditional example:\n",
    "num = int(input(\"Please type in a year:\"))\n",
    " \n",
    "if(num%4==0):\n",
    "    if(num%100==0):\n",
    "        if(num%400==0):\n",
    "            print(\"That year is a leap year.\")\n",
    "        else:\n",
    "            print(\"That year is not a leap year.\")\n",
    "    else:\n",
    "        print(\"That year is a leap year.\")\n",
    "else:\n",
    "    print(\"That year is not a leap year.\")"
   ]
  },
  {
   "cell_type": "code",
   "execution_count": 25,
   "metadata": {},
   "outputs": [
    {
     "name": "stdout",
     "output_type": "stream",
     "text": [
      "The letter in the middle is c\n"
     ]
    }
   ],
   "source": [
    "#alphebtical order\n",
    "#The program should then print out whichever of the three letters would be in the middle if the letters were in alphabetical order.\n",
    "\n",
    "#you may assume the letters will be either all uppercase, or all lowercase.\n",
    "\n",
    "let1 = input(\"1st letter:\")\n",
    "let2 = input(\"2nd letter:\")\n",
    "let3 = input(\"3rd letter:\")\n",
    "middle = let1\n",
    "\n",
    "if((let3>let2>let1) or (let1>let2>let3)):\n",
    "    middle = let2\n",
    "elif((let2>let1>let3) or (let3>let1>let2)):\n",
    "    middle = let1\n",
    "else:\n",
    "    middle = let3\n",
    "\n",
    "print(f\"The letter in the middle is {middle}\")"
   ]
  },
  {
   "cell_type": "code",
   "execution_count": 8,
   "metadata": {},
   "outputs": [
    {
     "name": "stdout",
     "output_type": "stream",
     "text": [
      "12 4700 55000 195000 0.12\n",
      "Amount of tax: 21500.0 euros\n"
     ]
    }
   ],
   "source": [
    "#gift tax calculator\n",
    "\n",
    "val = int(input(\"Value of gift:\"))\n",
    "#default values\n",
    "lower_lim_tax = 100\n",
    "lower_lim_value = 5000\n",
    "tax_rate = 8\n",
    "tax = 0.0\n",
    "\n",
    "\n",
    "#check outlier cases\n",
    "if(val<5000):\n",
    "    print(\"No tax!\")\n",
    "\n",
    "else:\n",
    "    if(val>=200000):\n",
    "        if(val>=1000000):\n",
    "            lower_lim_tax = 142100\n",
    "            lower_lim_value = 1000000\n",
    "            tax_rate = 17\n",
    "        else:\n",
    "            lower_lim_tax = 22100\n",
    "            lower_lim_value = 200000\n",
    "            tax_rate = 15\n",
    "\n",
    "    elif(val>=25000):\n",
    "        if(val>=55000):\n",
    "            lower_lim_tax = 4700\n",
    "            lower_lim_value = 55000\n",
    "            tax_rate = 12\n",
    "        else:\n",
    "            lower_lim_tax = 1700\n",
    "            lower_lim_value = 25000\n",
    "            tax_rate = 10\n",
    "\n",
    "    print(tax_rate, lower_lim_tax, lower_lim_value, val, tax_rate*.01)\n",
    "    tax = lower_lim_tax + ((val - lower_lim_value)*(tax_rate*.01))\n",
    "    print(f\"Amount of tax: {tax} euros\")\n",
    "\n",
    "\n"
   ]
  },
  {
   "cell_type": "code",
   "execution_count": null,
   "metadata": {},
   "outputs": [],
   "source": []
  }
 ],
 "metadata": {
  "kernelspec": {
   "display_name": "Python 3",
   "language": "python",
   "name": "python3"
  },
  "language_info": {
   "codemirror_mode": {
    "name": "ipython",
    "version": 3
   },
   "file_extension": ".py",
   "mimetype": "text/x-python",
   "name": "python",
   "nbconvert_exporter": "python",
   "pygments_lexer": "ipython3",
   "version": "3.11.4"
  },
  "orig_nbformat": 4
 },
 "nbformat": 4,
 "nbformat_minor": 2
}
