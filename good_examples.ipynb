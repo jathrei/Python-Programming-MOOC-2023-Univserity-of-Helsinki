{
 "cells": [
  {
   "attachments": {},
   "cell_type": "markdown",
   "metadata": {},
   "source": [
    "Good example problems throughout the course - a highlight of releveant ones to me"
   ]
  },
  {
   "cell_type": "code",
   "execution_count": null,
   "metadata": {},
   "outputs": [],
   "source": [
    " #FROM 2.4: input a year, output that year and next leap year\n",
    "yr = int(input(\"Year:\"))\n",
    "#save old year data\n",
    "yrold = yr\n",
    "#default to false for the while loop\n",
    "is_leap = False\n",
    "\n",
    "\n",
    "while(not is_leap):\n",
    "    if(yr%4 == 0):\n",
    "        yr +=4\n",
    "    else:\n",
    "        yr = yr + (4-(yr%4))\n",
    "    if yr % 4 == 0 and (yr % 100 != 0 or yr % 400 == 0):\n",
    "        is_leap = True\n",
    "\n",
    "print(f\"The next leap year after {yrold} is {yr}\")"
   ]
  },
  {
   "attachments": {},
   "cell_type": "markdown",
   "metadata": {},
   "source": [
    "using the input() to an already initialized string will concatenate the string with the inputted string"
   ]
  },
  {
   "cell_type": "code",
   "execution_count": 11,
   "metadata": {},
   "outputs": [
    {
     "name": "stdout",
     "output_type": "stream",
     "text": [
      "p \n"
     ]
    }
   ],
   "source": [
    "sentence = \"\"\n",
    "inp = \"\"\n",
    "inp_prev = \"\"\n",
    "while(inp!= \"end\"):\n",
    "    inp_prev = inp\n",
    "    inp = \"\"\n",
    "    inp = input(\"Please type in a word:\")\n",
    "    if(inp_prev == inp):\n",
    "        break\n",
    "    if(inp != \"end\"):\n",
    "        sentence = sentence + inp + \" \"\n",
    "print(sentence)"
   ]
  }
 ],
 "metadata": {
  "kernelspec": {
   "display_name": "Python 3",
   "language": "python",
   "name": "python3"
  },
  "language_info": {
   "codemirror_mode": {
    "name": "ipython",
    "version": 3
   },
   "file_extension": ".py",
   "mimetype": "text/x-python",
   "name": "python",
   "nbconvert_exporter": "python",
   "pygments_lexer": "ipython3",
   "version": "3.11.4"
  },
  "orig_nbformat": 4
 },
 "nbformat": 4,
 "nbformat_minor": 2
}
